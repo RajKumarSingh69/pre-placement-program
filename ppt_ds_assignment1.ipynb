{
 "cells": [
  {
   "cell_type": "code",
   "execution_count": 5,
   "id": "b8cb8c91",
   "metadata": {},
   "outputs": [
    {
     "name": "stdout",
     "output_type": "stream",
     "text": [
      "Reversed string: ecneicSataD\n"
     ]
    }
   ],
   "source": [
    "#Question no1\n",
    "def reverse_string(string):\n",
    "    string_list = list(string)\n",
    "    left = 0\n",
    "    right = len(string) - 1\n",
    "    while left < right:\n",
    "        string_list[left], string_list[right] = string_list[right], string_list[left]\n",
    "        left += 1\n",
    "        right -= 1\n",
    "    reversed_string = ''.join(string_list)\n",
    "    return reversed_string\n",
    "\n",
    "str=\"DataScience\"\n",
    "reversed_string = reverse_string(str)\n",
    "print(\"Reversed string:\", reversed_string)\n"
   ]
  },
  {
   "cell_type": "code",
   "execution_count": 6,
   "id": "fe78788d",
   "metadata": {},
   "outputs": [
    {
     "data": {
      "text/plain": [
       "'palindrome'"
      ]
     },
     "execution_count": 6,
     "metadata": {},
     "output_type": "execute_result"
    }
   ],
   "source": [
    "#Question no2\n",
    "def check_palindrom(str):\n",
    "    n=len(str)//2\n",
    "    s=len(str)\n",
    "    for i in range(n):\n",
    "        if(str[i]==str[s-i-1]):\n",
    "            return \"palindrome\"\n",
    "        else:\n",
    "            return \"not palindrome\"\n",
    "str=\"enene\"\n",
    "chek=check_palindrom(str)\n",
    "chek\n"
   ]
  },
  {
   "cell_type": "code",
   "execution_count": 13,
   "id": "6c9b30b9",
   "metadata": {},
   "outputs": [
    {
     "data": {
      "text/plain": [
       "5"
      ]
     },
     "execution_count": 13,
     "metadata": {},
     "output_type": "execute_result"
    }
   ],
   "source": [
    "#Question no3\n",
    "def find_largest_element(lst):\n",
    "    if not lst:\n",
    "        return None\n",
    "    largest = lst[0]\n",
    "    for num in lst:\n",
    "        if num > largest:\n",
    "            largest = num\n",
    "    return largest\n",
    "li=[1,2,3,4,5]\n",
    "larger=find_largest_element(li)\n",
    "larger"
   ]
  },
  {
   "cell_type": "code",
   "execution_count": 37,
   "id": "708c7238",
   "metadata": {},
   "outputs": [
    {
     "name": "stdout",
     "output_type": "stream",
     "text": [
      "Occurrences: {1: 1, 4: 3, 3: 1, 5: 1}\n"
     ]
    }
   ],
   "source": [
    "#question no4\n",
    "def count(lst):\n",
    "    occurr_count = {}\n",
    "    for i in lst:\n",
    "        if i in occurr_count:\n",
    "            occurr_count[i] += 1\n",
    "        else:\n",
    "            occurr_count[i] = 1\n",
    "    return occurr_count\n",
    "\n",
    "# Test the function\n",
    "list =[1,4,3,5,4,4]\n",
    "occurrence_dict =count(list)\n",
    "print(\"Occurrences:\", occurrence_dict)\n"
   ]
  },
  {
   "cell_type": "code",
   "execution_count": 44,
   "id": "cf9889f4",
   "metadata": {},
   "outputs": [
    {
     "name": "stdout",
     "output_type": "stream",
     "text": [
      "Second largest number: 5\n"
     ]
    }
   ],
   "source": [
    "#question no5\n",
    "def find_second_largest(lst):\n",
    "    if len(lst) < 2:\n",
    "        return None\n",
    "    largest =0\n",
    "    second_largest =0\n",
    "    for num in lst:\n",
    "        if num > largest:\n",
    "            second_largest = largest\n",
    "            largest = num\n",
    "        elif num > second_largest and num != largest:\n",
    "            second_largest = num\n",
    "    return second_largest\n",
    "input_list =[2,5,3,4,9]\n",
    "second_largest = find_second_largest(input_list)\n",
    "print(\"Second largest number:\", second_largest)\n"
   ]
  },
  {
   "cell_type": "code",
   "execution_count": 62,
   "id": "345e92f6",
   "metadata": {},
   "outputs": [
    {
     "name": "stdout",
     "output_type": "stream",
     "text": [
      "unique list:([1, 2, 3, 4], [])\n",
      " dublicate elemnt are=\n"
     ]
    }
   ],
   "source": [
    "#question no6\n",
    "def remove_dub(n):\n",
    "    res = []\n",
    "    dublicate=[]\n",
    "    for i in n:\n",
    "        if i not in res:\n",
    "            res.append(i)\n",
    "        else:\n",
    "            n.remove(i)\n",
    "    return res,dublicate\n",
    "li=[1,2,3,2,3,4,1]\n",
    "print(\"unique list:-\",remove_dub(l)"
   ]
  },
  {
   "cell_type": "code",
   "execution_count": 3,
   "id": "685682a3",
   "metadata": {},
   "outputs": [
    {
     "name": "stdout",
     "output_type": "stream",
     "text": [
      "6\n"
     ]
    }
   ],
   "source": [
    "#question no7\n",
    "def fact(n):\n",
    "    if n==0 or n==1:\n",
    "        return 1\n",
    "    else:\n",
    "        return n*fact(n-1)\n",
    "n=3\n",
    "print(fact(n))"
   ]
  },
  {
   "cell_type": "code",
   "execution_count": 4,
   "id": "c11ce64d",
   "metadata": {},
   "outputs": [
    {
     "name": "stdout",
     "output_type": "stream",
     "text": [
      "enter number for prime or not:-8\n",
      "(8, 'is not prime number')\n"
     ]
    }
   ],
   "source": [
    "#Question no8\n",
    "def checkprime(num):\n",
    "    c=0\n",
    "    for i in range(1,num+1):\n",
    "        if(num%i==0):\n",
    "            c=c+1\n",
    "    if(c==2):    \n",
    "        return (num,\"is prime number\")\n",
    "    else:\n",
    "        return (num,\"is not prime number\")\n",
    "num=int(input(\"enter number for prime or not:-\"))\n",
    "print(checkprime(num))"
   ]
  },
  {
   "cell_type": "code",
   "execution_count": 6,
   "id": "a1bffdc2",
   "metadata": {},
   "outputs": [
    {
     "name": "stdout",
     "output_type": "stream",
     "text": [
      "Sorted list: [1, 2, 3, 5, 6, 8]\n"
     ]
    }
   ],
   "source": [
    "#question no9\n",
    "def sort_list(lst):\n",
    "    for i in range(len(lst)):\n",
    "        for j in range(i+1, len(lst)):\n",
    "            if lst[j] < lst[i]:\n",
    "                lst[i], lst[j] = lst[j], lst[i]\n",
    "\n",
    "input_list = [2,5,3,8,1,6]\n",
    "sort_list(input_list)\n",
    "print(\"Sorted list:\", input_list)\n"
   ]
  },
  {
   "cell_type": "code",
   "execution_count": 7,
   "id": "1cd035cb",
   "metadata": {},
   "outputs": [
    {
     "name": "stdout",
     "output_type": "stream",
     "text": [
      "sum of all list item is 10\n"
     ]
    }
   ],
   "source": [
    "#question no10\n",
    "def sum(arr):\n",
    "    sum=0\n",
    "    for i in arr:\n",
    "        sum+=i\n",
    "    return sum\n",
    "lis=[1,2,3,4]\n",
    "print(\"sum of all list item is\",sum(lis))"
   ]
  },
  {
   "cell_type": "code",
   "execution_count": 12,
   "id": "4bc5b79a",
   "metadata": {},
   "outputs": [
    {
     "name": "stdout",
     "output_type": "stream",
     "text": [
      "[2, 3, 5]\n"
     ]
    }
   ],
   "source": [
    "#Question no11\n",
    "def common_elements(list1, list2):\n",
    "    common_elements = []\n",
    "    for element in list1:\n",
    "        if element in list2 and element not in common_elements:\n",
    "            common_elements.append(element)\n",
    "    return common_elements\n",
    "li1=[1,2,3,4,5]\n",
    "li2=[8,9,3,2,5]\n",
    "print(common_elements(li1,li2))"
   ]
  },
  {
   "cell_type": "code",
   "execution_count": 14,
   "id": "819e683e",
   "metadata": {},
   "outputs": [
    {
     "name": "stdout",
     "output_type": "stream",
     "text": [
      "The strings are anagrams.\n"
     ]
    }
   ],
   "source": [
    "#question no12\n",
    "def is_anagram(str1, str2):\n",
    "    str1 = str1.lower()\n",
    "    str2 = str2.lower()\n",
    "\n",
    "    # Remove whitespace and punctuation\n",
    "    str1 = ''.join(ch for ch in str1 if ch.isalnum())\n",
    "    str2 = ''.join(ch for ch in str2 if ch.isalnum())\n",
    "\n",
    "    if len(str1) != len(str2):\n",
    "        return False\n",
    "\n",
    "    char_count = {}\n",
    "    for char in str1:\n",
    "        if char in char_count:\n",
    "            char_count[char] += 1\n",
    "        else:\n",
    "            char_count[char] = 1\n",
    "\n",
    "    for char in str2:\n",
    "        if char in char_count:\n",
    "            char_count[char] -= 1\n",
    "        else:\n",
    "            return False\n",
    "\n",
    "    return all(count == 0 for count in char_count.values())\n",
    "\n",
    "# Test the function\n",
    "input_str1 = \"listen\"\n",
    "input_str2 = \"silent\"\n",
    "\n",
    "if is_anagram(input_str1, input_str2):\n",
    "    print(\"The strings are anagrams.\")\n",
    "else:\n",
    "    print(\"The strings are not anagrams.\")\n"
   ]
  },
  {
   "cell_type": "code",
   "execution_count": 16,
   "id": "4ba48812",
   "metadata": {},
   "outputs": [
    {
     "name": "stdout",
     "output_type": "stream",
     "text": [
      "Enter a string: raj\n",
      "Permutations of raj :\n",
      "raj\n",
      "rja\n",
      "arj\n",
      "ajr\n",
      "jra\n",
      "jar\n"
     ]
    }
   ],
   "source": [
    "#question no13\n",
    "def generate_permutations(string):\n",
    "    # Base case: If the string is empty, return an empty list\n",
    "    if len(string) == 0:\n",
    "        return []\n",
    "\n",
    "    # Base case: If the string has only one character, return the string as a single permutation\n",
    "    if len(string) == 1:\n",
    "        return [string]\n",
    "\n",
    "    # Recursive case:\n",
    "    permutations = []  # List to store permutations\n",
    "\n",
    "    # Iterate through each character in the string\n",
    "    for i in range(len(string)):\n",
    "        # Extract the current character\n",
    "        current_char = string[i]\n",
    "\n",
    "        # Generate permutations of the remaining characters\n",
    "        remaining_chars = string[:i] + string[i+1:]\n",
    "        sub_permutations = generate_permutations(remaining_chars)\n",
    "\n",
    "        # Append the current character to each permutation of the remaining character\n",
    "        for sub_permutation in sub_permutations:\n",
    "            permutations.append(current_char + sub_permutation)\n",
    "\n",
    "    return permutations\n",
    "\n",
    "# Test the program\n",
    "input_string = input(\"Enter a string: \")\n",
    "permutations = generate_permutations(input_string)\n",
    "print(\"Permutations of\", input_string, \":\")\n",
    "for permutation in permutations:\n",
    "    print(permutation)\n",
    "\n"
   ]
  },
  {
   "cell_type": "code",
   "execution_count": 17,
   "id": "c859db6a",
   "metadata": {},
   "outputs": [
    {
     "name": "stdout",
     "output_type": "stream",
     "text": [
      "Enter the number of terms: 7\n",
      "Fibonacci sequence up to 7 terms:\n",
      "[0, 1, 1, 2, 3, 5, 8]\n"
     ]
    }
   ],
   "source": [
    "#question no14\n",
    "def fibonacci_sequence(n):\n",
    "    sequence = []\n",
    "\n",
    "    if n >= 1:\n",
    "        sequence.append(0)\n",
    "    if n >= 2:\n",
    "        sequence.append(1)\n",
    "\n",
    "    for i in range(2, n):\n",
    "        next_term = sequence[i-1] + sequence[i-2]\n",
    "        sequence.append(next_term)\n",
    "\n",
    "    return sequence\n",
    "input_terms = int(input(\"Enter the number of terms: \"))\n",
    "fibonacci_seq = fibonacci_sequence(input_terms)\n",
    "print(\"Fibonacci sequence up to\", input_terms, \"terms:\")\n",
    "print(fibonacci_seq)\n"
   ]
  },
  {
   "cell_type": "code",
   "execution_count": 26,
   "id": "48f84c2d",
   "metadata": {},
   "outputs": [
    {
     "name": "stdout",
     "output_type": "stream",
     "text": [
      "Median: 3.5\n"
     ]
    }
   ],
   "source": [
    "#question no15\n",
    "def find_median(numbers):\n",
    "    sorted_numbers = sorted(numbers)\n",
    "    length = len(sorted_numbers)\n",
    "    \n",
    "    if length % 2 == 1:\n",
    "        median = sorted_numbers[length // 2]\n",
    "    else:\n",
    "        mid_right = length // 2\n",
    "        mid_left = mid_right - 1\n",
    "        median = (sorted_numbers[mid_left] + sorted_numbers[mid_right]) / 2\n",
    "    \n",
    "    return median\n",
    "\n",
    "# Test the program\n",
    "input_numbers =[2,1,3,4,5,6]\n",
    "median = find_median(input_numbers)\n",
    "print(\"Median:\", median)\n"
   ]
  },
  {
   "cell_type": "code",
   "execution_count": 2,
   "id": "3dec2bab",
   "metadata": {},
   "outputs": [
    {
     "name": "stdout",
     "output_type": "stream",
     "text": [
      "Enter a list of numbers (space-separated): 123456\n",
      "The list is sorted in non-decreasing order.\n"
     ]
    }
   ],
   "source": [
    "#question no16\n",
    "def is_sorted(lst):\n",
    "    n = len(lst)\n",
    "    for i in range(1, n):\n",
    "        if lst[i] < lst[i-1]:\n",
    "            return False\n",
    "    return True\n",
    "\n",
    "# Test the function\n",
    "input_list = input(\"Enter a list of numbers (space-separated): \").split()\n",
    "numbers = [int(num) for num in input_list]\n",
    "if is_sorted(numbers):\n",
    "    print(\"The list is sorted in non-decreasing order.\")\n",
    "else:\n",
    "    print(\"The list is not sorted in non-decreasing order.\")\n"
   ]
  },
  {
   "cell_type": "code",
   "execution_count": 3,
   "id": "a0bf6f7f",
   "metadata": {},
   "outputs": [
    {
     "name": "stdout",
     "output_type": "stream",
     "text": [
      "Enter the first list (space-separated): 1234\n",
      "Enter the second list (space-separated): 2356\n",
      "Intersection of the two lists: []\n"
     ]
    }
   ],
   "source": [
    "#question no17\n",
    "def find_intersection(list1, list2):\n",
    "    set1 = set(list1)\n",
    "    set2 = set(list2)\n",
    "    intersection = set1.intersection(set2)\n",
    "    return list(intersection)\n",
    "\n",
    "# Test the program\n",
    "input_list1 = input(\"Enter the first list (space-separated): \").split()\n",
    "input_list2 = input(\"Enter the second list (space-separated): \").split()\n",
    "\n",
    "list1 = [int(num) for num in input_list1]\n",
    "list2 = [int(num) for num in input_list2]\n",
    "\n",
    "intersection = find_intersection(list1, list2)\n",
    "print(\"Intersection of the two lists:\", intersection)\n"
   ]
  },
  {
   "cell_type": "code",
   "execution_count": 4,
   "id": "bfe63530",
   "metadata": {},
   "outputs": [
    {
     "name": "stdout",
     "output_type": "stream",
     "text": [
      "6\n"
     ]
    }
   ],
   "source": [
    "#quetsion no18\n",
    "def maxsubarray(arr):\n",
    "    l=[]\n",
    "    sum=0\n",
    "    maxi=arr[0]\n",
    "    for i in range(len(arr)):\n",
    "        #currrnt sub array sum\n",
    "        sum+=arr[i]\n",
    "        if(sum>maxi):\n",
    "            maxi=sum\n",
    "        if(sum<0):\n",
    "            sum=0\n",
    "    return maxi\n",
    "arr=[-2,1,-3,4,-1,2,1,-5,4]\n",
    "max=maxsubarray(arr)\n",
    "print(max)"
   ]
  },
  {
   "cell_type": "code",
   "execution_count": 6,
   "id": "f87123f6",
   "metadata": {},
   "outputs": [
    {
     "name": "stdout",
     "output_type": "stream",
     "text": [
      "Enter a string: aegtru\n",
      "String with vowels removed: gtr\n"
     ]
    }
   ],
   "source": [
    "#question no19\n",
    "def remove_vowels(string):\n",
    "    vowels = \"aeiouAEIOU\"\n",
    "    filtered_string = \"\"\n",
    "    for char in string:\n",
    "        if char not in vowels:\n",
    "            filtered_string += char\n",
    "    return filtered_string\n",
    "\n",
    "# Test the program\n",
    "input_string = input(\"Enter a string: \")\n",
    "filtered_string = remove_vowels(input_string)\n",
    "print(\"String with vowels removed:\", filtered_string)\n"
   ]
  },
  {
   "cell_type": "code",
   "execution_count": null,
   "id": "00a81429",
   "metadata": {},
   "outputs": [],
   "source": [
    "#question no20\n",
    "def reverse_sentence(sentence):\n",
    "    words = sentence.split()  # Split sentence into words\n",
    "    reversed_words = words[::-1]  # Reverse the order of words\n",
    "    reversed_sentence = ' '.join(reversed_words)  # Join words back into a sentence\n",
    "    return reversed_sentence\n",
    "\n",
    "# Test the function\n",
    "input_sentence = input(\"Enter a sentence: \")\n",
    "reversed_sentence = reverse_sentence(input_sentence)\n",
    "print(\"Reversed sentence:\", reversed_sentence)\n"
   ]
  },
  {
   "cell_type": "code",
   "execution_count": 7,
   "id": "919a61ad",
   "metadata": {},
   "outputs": [
    {
     "name": "stdout",
     "output_type": "stream",
     "text": [
      "The strings are anagrams.\n"
     ]
    }
   ],
   "source": [
    "#question no21\n",
    "#question no12\n",
    "def is_anagram(str1, str2):\n",
    "    str1 = str1.lower()\n",
    "    str2 = str2.lower()\n",
    "\n",
    "    # Remove whitespace and punctuation\n",
    "    str1 = ''.join(ch for ch in str1 if ch.isalnum())\n",
    "    str2 = ''.join(ch for ch in str2 if ch.isalnum())\n",
    "\n",
    "    if len(str1) != len(str2):\n",
    "        return False\n",
    "\n",
    "    char_count = {}\n",
    "    for char in str1:\n",
    "        if char in char_count:\n",
    "            char_count[char] += 1\n",
    "        else:\n",
    "            char_count[char] = 1\n",
    "\n",
    "    for char in str2:\n",
    "        if char in char_count:\n",
    "            char_count[char] -= 1\n",
    "        else:\n",
    "            return False\n",
    "\n",
    "    return all(count == 0 for count in char_count.values())\n",
    "\n",
    "# Test the function\n",
    "input_str1 = \"listen\"\n",
    "input_str2 = \"silent\"\n",
    "\n",
    "if is_anagram(input_str1, input_str2):\n",
    "    print(\"The strings are anagrams.\")\n",
    "else:\n",
    "    print(\"The strings are not anagrams.\")"
   ]
  },
  {
   "cell_type": "code",
   "execution_count": 11,
   "id": "56bb8fa9",
   "metadata": {},
   "outputs": [
    {
     "name": "stdout",
     "output_type": "stream",
     "text": [
      "r\n"
     ]
    }
   ],
   "source": [
    "#question no22\n",
    "def find(string):\n",
    "    char_counts = {}  # Dictionary to store character counts\n",
    "\n",
    "    # Count occurrences of each character\n",
    "    for char in string:\n",
    "        if char in char_counts:\n",
    "            char_counts[char] += 1\n",
    "        else:\n",
    "            char_counts[char] = 1\n",
    "    for char in string:\n",
    "        if char_counts[char] == 1:\n",
    "            return char\n",
    "\n",
    "    # If no non-repeating character found\n",
    "    return None\n",
    "\n",
    "st=\"rajejsignhe\"\n",
    "print(find(st))\n",
    "    "
   ]
  },
  {
   "cell_type": "code",
   "execution_count": 13,
   "id": "08d3a7cc",
   "metadata": {},
   "outputs": [
    {
     "name": "stdout",
     "output_type": "stream",
     "text": [
      "Prime factors of 48 are: [2, 2, 2, 2, 3]\n"
     ]
    }
   ],
   "source": [
    "#question no23\n",
    "def find_prime_factors(number):\n",
    "    prime_factors = []\n",
    "    divisor = 2\n",
    "\n",
    "    while divisor <= number:\n",
    "        if number % divisor == 0:\n",
    "            prime_factors.append(divisor)\n",
    "            number=number//divisor\n",
    "        else:\n",
    "            divisor += 1\n",
    "\n",
    "    return prime_factors\n",
    "input_number = 48\n",
    "result = find_prime_factors(input_number)\n",
    "print(\"Prime factors of\", input_number, \"are:\", result)\n"
   ]
  },
  {
   "cell_type": "code",
   "execution_count": 14,
   "id": "2c0d1736",
   "metadata": {},
   "outputs": [
    {
     "name": "stdout",
     "output_type": "stream",
     "text": [
      "16 is a power of two: True\n"
     ]
    }
   ],
   "source": [
    "#question no24\n",
    "def is_power_of_two(number):\n",
    "    if number <= 0:\n",
    "        return False\n",
    "\n",
    "    while number > 1:\n",
    "        if number % 2 != 0:\n",
    "            return False\n",
    "        number //= 2\n",
    "\n",
    "    return True\n",
    "input_number = 16\n",
    "result = is_power_of_two(input_number)\n",
    "print(input_number, \"is a power of two:\", result)"
   ]
  },
  {
   "cell_type": "code",
   "execution_count": 15,
   "id": "ee922962",
   "metadata": {},
   "outputs": [
    {
     "name": "stdout",
     "output_type": "stream",
     "text": [
      "Merged list: [1, 2, 3, 4, 5, 7, 8, 9]\n"
     ]
    }
   ],
   "source": [
    "#question no25\n",
    "def merge_sorted_lists(list1, list2):\n",
    "    merged_list = []\n",
    "    i = 0\n",
    "    j = 0\n",
    "\n",
    "    # Merge the two lists while maintaining the sorted order\n",
    "    while i < len(list1) and j < len(list2):\n",
    "        if list1[i] <= list2[j]:\n",
    "            merged_list.append(list1[i])\n",
    "            i += 1\n",
    "        else:\n",
    "            merged_list.append(list2[j])\n",
    "            j += 1\n",
    "\n",
    "    # Append any remaining elements from list1\n",
    "    while i < len(list1):\n",
    "        merged_list.append(list1[i])\n",
    "        i += 1\n",
    "\n",
    "    # Append any remaining elements from list2\n",
    "    while j < len(list2):\n",
    "        merged_list.append(list2[j])\n",
    "        j += 1\n",
    "\n",
    "    return merged_list\n",
    "list1 = [1, 4, 7, 9]\n",
    "list2 = [2, 3, 5, 8]\n",
    "result = merge_sorted_lists(list1, list2)\n",
    "print(\"Merged list:\", result)\n"
   ]
  },
  {
   "cell_type": "code",
   "execution_count": 16,
   "id": "4976d47d",
   "metadata": {},
   "outputs": [
    {
     "name": "stdout",
     "output_type": "stream",
     "text": [
      "Mode: 2\n"
     ]
    }
   ],
   "source": [
    "#question no26\n",
    "def find_mode(numbers):\n",
    "    if len(numbers) == 0:\n",
    "        return None\n",
    "\n",
    "    number_counts = {}\n",
    "    max_count = 0\n",
    "    mode = None\n",
    "\n",
    "    # Count occurrences of each number\n",
    "    for number in numbers:\n",
    "        if number in number_counts:\n",
    "            number_counts[number] += 1\n",
    "        else:\n",
    "            number_counts[number] = 1\n",
    "\n",
    "        # Update mode if the count is higher\n",
    "        if number_counts[number] > max_count:\n",
    "            max_count = number_counts[number]\n",
    "            mode = number\n",
    "\n",
    "    return mode\n",
    "input_numbers = [1, 2, 3, 2, 4, 1, 2, 2]\n",
    "result = find_mode(input_numbers)\n",
    "print(\"Mode:\", result)\n"
   ]
  },
  {
   "cell_type": "code",
   "execution_count": 17,
   "id": "4f8ec8c2",
   "metadata": {},
   "outputs": [
    {
     "name": "stdout",
     "output_type": "stream",
     "text": [
      "GCD of 36 and 48 is: 12\n"
     ]
    }
   ],
   "source": [
    "#question no27\n",
    "def gcd(a, b):\n",
    "    while b != 0:\n",
    "        a, b = b, a % b\n",
    "    return a\n",
    "num1 = 36\n",
    "num2 = 48\n",
    "result = gcd(num1, num2)\n",
    "print(\"GCD of\", num1, \"and\", num2, \"is:\", result)\n",
    "\n"
   ]
  },
  {
   "cell_type": "code",
   "execution_count": 18,
   "id": "77d63e02",
   "metadata": {},
   "outputs": [
    {
     "name": "stdout",
     "output_type": "stream",
     "text": [
      "Square root of 16 is: 4.000000000000004\n"
     ]
    }
   ],
   "source": [
    "#question no28\n",
    "def square_root(number):\n",
    "    if number < 0:\n",
    "        raise ValueError(\"Square root is not defined for negative numbers\")\n",
    "\n",
    "    # Initial guess for the square root\n",
    "    guess = number / 2\n",
    "\n",
    "    # Iterate until desired precision is achieved\n",
    "    while abs(guess * guess - number) > 1e-6:\n",
    "        guess = (guess + number / guess) / 2\n",
    "\n",
    "    return guess\n",
    "\n",
    "input_number = 16\n",
    "result = square_root(input_number)\n",
    "print(\"Square root of\", input_number, \"is:\", result)\n"
   ]
  },
  {
   "cell_type": "code",
   "execution_count": 19,
   "id": "ac39ad23",
   "metadata": {},
   "outputs": [
    {
     "name": "stdout",
     "output_type": "stream",
     "text": [
      "Is the string a valid palindrome? True\n"
     ]
    }
   ],
   "source": [
    "#question no29\n",
    "import re\n",
    "\n",
    "def is_valid_palindrome(string):\n",
    "    # Remove non-alphanumeric characters and convert to lowercase\n",
    "    alphanumeric_string = re.sub('[^a-zA-Z0-9]', '', string).lower()\n",
    "\n",
    "    # Check if the alphanumeric string is a palindrome\n",
    "    return alphanumeric_string == alphanumeric_string[::-1]\n",
    "\n",
    "input_string = \"A man, a plan, a canal: Panama\"\n",
    "result = is_valid_palindrome(input_string)\n",
    "print(\"Is the string a valid palindrome?\", result)\n"
   ]
  },
  {
   "cell_type": "code",
   "execution_count": 20,
   "id": "7107293f",
   "metadata": {},
   "outputs": [
    {
     "name": "stdout",
     "output_type": "stream",
     "text": [
      "Minimum element: 0\n"
     ]
    }
   ],
   "source": [
    "#question no30\n",
    "def find_min_element(nums):\n",
    "    left = 0\n",
    "    right = len(nums) - 1\n",
    "\n",
    "    # If the list is not rotated, the first element is the minimum\n",
    "    if nums[right] > nums[left]:\n",
    "        return nums[left]\n",
    "\n",
    "    while left < right:\n",
    "        mid = (left + right) // 2\n",
    "\n",
    "        # Check if mid is the minimum element\n",
    "        if nums[mid] > nums[mid + 1]:\n",
    "            return nums[mid + 1]\n",
    "\n",
    "        # Check if mid+1 is the minimum element\n",
    "        if nums[mid - 1] > nums[mid]:\n",
    "            return nums[mid]\n",
    "\n",
    "        # Adjust the search range\n",
    "        if nums[mid] > nums[right]:\n",
    "            left = mid + 1\n",
    "        else:\n",
    "            right = mid - 1\n",
    "\n",
    "    return nums[left]\n",
    "input_nums = [4, 5, 6, 7, 0, 1, 2]\n",
    "result = find_min_element(input_nums)\n",
    "print(\"Minimum element:\", result)\n"
   ]
  },
  {
   "cell_type": "code",
   "execution_count": 27,
   "id": "5618f6e9",
   "metadata": {},
   "outputs": [
    {
     "name": "stdout",
     "output_type": "stream",
     "text": [
      "sum of even numbers in list= 20\n"
     ]
    }
   ],
   "source": [
    "#question no31\n",
    "def find_sum_of_even(arr):\n",
    "    sum=0\n",
    "    for i in arr:\n",
    "        if i%2==0:\n",
    "            sum+=i\n",
    "    return sum\n",
    "li=[1,2,3,4,5,6,7,8]\n",
    "print(\"sum of even numbers in list=\",find_sum_of_even(li))"
   ]
  },
  {
   "cell_type": "code",
   "execution_count": 28,
   "id": "27b55abe",
   "metadata": {},
   "outputs": [
    {
     "name": "stdout",
     "output_type": "stream",
     "text": [
      "2 raised to the power of 3 is: 8\n"
     ]
    }
   ],
   "source": [
    "#question no32\n",
    "def power(base, exponent):\n",
    "    if exponent == 0:\n",
    "        return 1\n",
    "    elif exponent < 0:\n",
    "        return 1 / power(base, -exponent)\n",
    "    else:\n",
    "        return base * power(base, exponent - 1)\n",
    "base = 2\n",
    "exponent = 3\n",
    "result = power(base, exponent)\n",
    "print(base, \"raised to the power of\", exponent, \"is:\", result)\n"
   ]
  },
  {
   "cell_type": "code",
   "execution_count": 29,
   "id": "071d4c3a",
   "metadata": {},
   "outputs": [
    {
     "name": "stdout",
     "output_type": "stream",
     "text": [
      "List with duplicates removed: [1, 2, 3, 4, 5]\n"
     ]
    }
   ],
   "source": [
    "#quetsion no33\n",
    "def remove_duplicates(lst):\n",
    "    unique_list = []\n",
    "    seen = set()\n",
    "\n",
    "    for item in lst:\n",
    "        if item not in seen:\n",
    "            seen.add(item)\n",
    "            unique_list.append(item)\n",
    "\n",
    "    return unique_list\n",
    "input_list = [1, 2, 3, 2, 4, 3, 5]\n",
    "result = remove_duplicates(input_list)\n",
    "print(\"List with duplicates removed:\", result)\n"
   ]
  },
  {
   "cell_type": "code",
   "execution_count": 30,
   "id": "4fc645c1",
   "metadata": {},
   "outputs": [
    {
     "name": "stdout",
     "output_type": "stream",
     "text": [
      "Longest common prefix: fl\n"
     ]
    }
   ],
   "source": [
    "#question no34\n",
    "def longest_common_prefix(strs):\n",
    "    if not strs:\n",
    "        return \"\"\n",
    "\n",
    "    prefix = strs[0]\n",
    "\n",
    "    for string in strs[1:]:\n",
    "        while string[:len(prefix)] != prefix:\n",
    "            prefix = prefix[:-1]\n",
    "\n",
    "            if not prefix:\n",
    "                return \"\"\n",
    "\n",
    "    return prefix\n",
    "input_strings = [\"flower\", \"flow\", \"flight\"]\n",
    "result = longest_common_prefix(input_strings)\n",
    "print(\"Longest common prefix:\", result)\n",
    "\n"
   ]
  },
  {
   "cell_type": "code",
   "execution_count": 31,
   "id": "55350be6",
   "metadata": {},
   "outputs": [
    {
     "name": "stdout",
     "output_type": "stream",
     "text": [
      "Is 16 a perfect square? True\n"
     ]
    }
   ],
   "source": [
    "#question no35\n",
    "def is_perfect_square(number):\n",
    "    if number < 0:\n",
    "        return False\n",
    "\n",
    "    sqrt = int(number ** 0.5)\n",
    "    return sqrt * sqrt == number\n",
    "input_number = 16\n",
    "result = is_perfect_square(input_number)\n",
    "print(\"Is\", input_number, \"a perfect square?\", result)\n"
   ]
  },
  {
   "cell_type": "code",
   "execution_count": 32,
   "id": "79eb7112",
   "metadata": {},
   "outputs": [
    {
     "name": "stdout",
     "output_type": "stream",
     "text": [
      "Product of the list elements: 120\n"
     ]
    }
   ],
   "source": [
    "#question no36\n",
    "def calculate_product(numbers):\n",
    "    product = 1\n",
    "\n",
    "    for number in numbers:\n",
    "        product *= number\n",
    "\n",
    "    return product\n",
    "input_list = [2, 3, 4, 5]\n",
    "result = calculate_product(input_list)\n",
    "print(\"Product of the list elements:\", result)\n"
   ]
  },
  {
   "cell_type": "code",
   "execution_count": 33,
   "id": "160d4255",
   "metadata": {},
   "outputs": [
    {
     "name": "stdout",
     "output_type": "stream",
     "text": [
      "Reversed sentence: sentence. a is This world! Hello,\n"
     ]
    }
   ],
   "source": [
    "#question no37\n",
    "def reverse_sentence(sentence):\n",
    "    words = sentence.split()\n",
    "    reversed_words = words[::-1]\n",
    "    reversed_sentence = \" \".join(reversed_words)\n",
    "    return reversed_sentence\n",
    "input_sentence = \"Hello, world! This is a sentence.\"\n",
    "result = reverse_sentence(input_sentence)\n",
    "print(\"Reversed sentence:\", result)\n"
   ]
  },
  {
   "cell_type": "code",
   "execution_count": 34,
   "id": "76406128",
   "metadata": {},
   "outputs": [
    {
     "name": "stdout",
     "output_type": "stream",
     "text": [
      "Missing number: 4\n"
     ]
    }
   ],
   "source": [
    "#question no38\n",
    "def find_missing_number(nums):\n",
    "    n = len(nums) + 1\n",
    "    expected_sum = (n * (n + 1)) // 2\n",
    "    actual_sum = sum(nums)\n",
    "    missing_number = expected_sum - actual_sum\n",
    "    return missing_number\n",
    "input_list = [1, 2, 3, 5, 6]\n",
    "result = find_missing_number(input_list)\n",
    "print(\"Missing number:\", result)\n"
   ]
  },
  {
   "cell_type": "code",
   "execution_count": 35,
   "id": "a62d97af",
   "metadata": {},
   "outputs": [
    {
     "name": "stdout",
     "output_type": "stream",
     "text": [
      "Sum of digits: 15\n"
     ]
    }
   ],
   "source": [
    "#question no39\n",
    "def sum_of_digits(number):\n",
    "    total = 0\n",
    "    while number > 0:\n",
    "        total += number % 10\n",
    "        number //= 10\n",
    "    return total\n",
    "input_number = 12345\n",
    "result = sum_of_digits(input_number)\n",
    "print(\"Sum of digits:\", result)\n",
    "\n"
   ]
  },
  {
   "cell_type": "code",
   "execution_count": 36,
   "id": "c3ff0721",
   "metadata": {},
   "outputs": [
    {
     "name": "stdout",
     "output_type": "stream",
     "text": [
      "Is the string a valid palindrome? False\n"
     ]
    }
   ],
   "source": [
    "#question no40\n",
    "def is_valid_palindrome(string):\n",
    "    left = 0\n",
    "    right = len(string) - 1\n",
    "\n",
    "    while left < right:\n",
    "        # Skip non-alphanumeric characters\n",
    "        while left < right and not string[left].isalnum():\n",
    "            left += 1\n",
    "        while left < right and not string[right].isalnum():\n",
    "            right -= 1\n",
    "\n",
    "        # Compare characters (case-sensitive)\n",
    "        if string[left] != string[right]:\n",
    "            return False\n",
    "\n",
    "        left += 1\n",
    "        right -= 1\n",
    "\n",
    "    return True\n",
    "\n",
    "input_string = \"A man, a plan, a canal: Panama\"\n",
    "result = is_valid_palindrome(input_string)\n",
    "print(\"Is the string a valid palindrome?\", result)\n"
   ]
  },
  {
   "cell_type": "code",
   "execution_count": 37,
   "id": "dac4d25d",
   "metadata": {},
   "outputs": [
    {
     "name": "stdout",
     "output_type": "stream",
     "text": [
      "Smallest missing positive integer: 2\n"
     ]
    }
   ],
   "source": [
    "#question no41\n",
    "def find_smallest_missing_positive(nums):\n",
    "    n = len(nums)\n",
    "\n",
    "    # Move all positive integers to the correct position\n",
    "    for i in range(n):\n",
    "        while 1 <= nums[i] <= n and nums[nums[i] - 1] != nums[i]:\n",
    "            nums[nums[i] - 1], nums[i] = nums[i], nums[nums[i] - 1]\n",
    "\n",
    "    # Find the first index where the value is not in the correct position\n",
    "    for i in range(n):\n",
    "        if nums[i] != i + 1:\n",
    "            return i + 1\n",
    "\n",
    "    # If all positions are filled, the smallest missing positive is n+1\n",
    "    return n + 1\n",
    "\n",
    "input_list = [3, 4, -1, 1]\n",
    "result = find_smallest_missing_positive(input_list)\n",
    "print(\"Smallest missing positive integer:\", result)\n"
   ]
  },
  {
   "cell_type": "code",
   "execution_count": null,
   "id": "c09063df",
   "metadata": {},
   "outputs": [],
   "source": []
  }
 ],
 "metadata": {
  "kernelspec": {
   "display_name": "Python 3 (ipykernel)",
   "language": "python",
   "name": "python3"
  },
  "language_info": {
   "codemirror_mode": {
    "name": "ipython",
    "version": 3
   },
   "file_extension": ".py",
   "mimetype": "text/x-python",
   "name": "python",
   "nbconvert_exporter": "python",
   "pygments_lexer": "ipython3",
   "version": "3.10.6"
  }
 },
 "nbformat": 4,
 "nbformat_minor": 5
}
