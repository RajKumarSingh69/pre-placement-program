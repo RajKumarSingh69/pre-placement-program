{
 "cells": [
  {
   "cell_type": "code",
   "execution_count": 4,
   "id": "b2df0724",
   "metadata": {},
   "outputs": [
    {
     "name": "stdout",
     "output_type": "stream",
     "text": [
      "even numbers=\n",
      " [2, 4, 6, 8, 10]\n"
     ]
    }
   ],
   "source": [
    "#Question no1\n",
    "\n",
    "def get_even_numbers(numbers):\n",
    "    return [num for num in numbers if num % 2 == 0]\n",
    "\n",
    "input_list = [1, 2, 3, 4, 5, 6, 7, 8, 9, 10]\n",
    "even_numbers = get_even_numbers(input_list)\n",
    "print(\"even numbers=\\n\",even_numbers)\n"
   ]
  },
  {
   "cell_type": "code",
   "execution_count": 5,
   "id": "50441541",
   "metadata": {},
   "outputs": [
    {
     "name": "stdout",
     "output_type": "stream",
     "text": [
      "The function 'my_function' took 2.001958 seconds to execute.\n"
     ]
    }
   ],
   "source": [
    "#question no2\n",
    "import time\n",
    "\n",
    "def timer(func):\n",
    "    def evaluate(*args, **kwargs):\n",
    "        start_time = time.time()\n",
    "        result = func(*args, **kwargs)\n",
    "        end_time = time.time()\n",
    "        execution_time = end_time - start_time\n",
    "        print(f\"The function '{func.__name__}' took {execution_time:.6f} seconds to execute.\")\n",
    "        return result\n",
    "    return evaluate\n",
    "@timer\n",
    "def my_function():\n",
    "    # Code to be timed\n",
    "    time.sleep(2)\n",
    "\n",
    "my_function()\n",
    "\n"
   ]
  },
  {
   "cell_type": "code",
   "execution_count": 6,
   "id": "2e269dcc",
   "metadata": {},
   "outputs": [
    {
     "name": "stdout",
     "output_type": "stream",
     "text": [
      "6.0\n"
     ]
    }
   ],
   "source": [
    "#Question no3\n",
    "def calculate_mean(numbers):\n",
    "    if len(numbers) == 0:\n",
    "        return None  # Return None for an empty list\n",
    "    \n",
    "    total = sum(numbers)\n",
    "    mean = total / len(numbers)\n",
    "    return mean\n",
    "numbers=[2,4,6,8,10]\n",
    "mean=calculate_mean(numbers)\n",
    "print(mean)"
   ]
  },
  {
   "cell_type": "code",
   "execution_count": 7,
   "id": "07e8b513",
   "metadata": {},
   "outputs": [
    {
     "name": "stdout",
     "output_type": "stream",
     "text": [
      "0.09434977284243756\n"
     ]
    }
   ],
   "source": [
    "#Question no4\n",
    "from scipy import stats\n",
    "\n",
    "def hypothesis_test(sample1, sample2):\n",
    "    t_statistic, p_value = stats.ttest_ind(sample1, sample2)\n",
    "    return p_value\n",
    "\n",
    "sample1 = [1, 2, 3, 4, 5]\n",
    "sample2 = [2, 4, 6, 8, 10]\n",
    "p_value = hypothesis_test(sample1, sample2)\n",
    "print(p_value)\n",
    "\n"
   ]
  },
  {
   "cell_type": "code",
   "execution_count": null,
   "id": "7c32bfed",
   "metadata": {},
   "outputs": [],
   "source": []
  }
 ],
 "metadata": {
  "kernelspec": {
   "display_name": "Python 3 (ipykernel)",
   "language": "python",
   "name": "python3"
  },
  "language_info": {
   "codemirror_mode": {
    "name": "ipython",
    "version": 3
   },
   "file_extension": ".py",
   "mimetype": "text/x-python",
   "name": "python",
   "nbconvert_exporter": "python",
   "pygments_lexer": "ipython3",
   "version": "3.10.6"
  }
 },
 "nbformat": 4,
 "nbformat_minor": 5
}
